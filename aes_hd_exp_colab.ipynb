{
  "nbformat": 4,
  "nbformat_minor": 0,
  "metadata": {
    "accelerator": "TPU",
    "colab": {
      "name": "aes_hd_exp_colab.ipynb",
      "provenance": [],
      "collapsed_sections": [],
      "authorship_tag": "ABX9TyNHREBQYbSENGpR5YFLlrPl",
      "include_colab_link": true
    },
    "kernelspec": {
      "display_name": "Python 3",
      "name": "python3"
    }
  },
  "cells": [
    {
      "cell_type": "markdown",
      "metadata": {
        "id": "view-in-github",
        "colab_type": "text"
      },
      "source": [
        "<a href=\"https://colab.research.google.com/github/suvadeep-iitb/TransNet/blob/master/aes_hd_exp_colab.ipynb\" target=\"_parent\"><img src=\"https://colab.research.google.com/assets/colab-badge.svg\" alt=\"Open In Colab\"/></a>"
      ]
    },
    {
      "cell_type": "markdown",
      "source": [
        "# Clone the git repository"
      ],
      "metadata": {
        "id": "0HvJLz_pmNWz"
      }
    },
    {
      "cell_type": "code",
      "source": [
        "!git clone https://github.com/suvadeep-iitb/TransNet.git"
      ],
      "metadata": {
        "id": "taF6ICG4kuPt"
      },
      "execution_count": null,
      "outputs": []
    },
    {
      "cell_type": "markdown",
      "source": [
        "# Move into TransNet directory"
      ],
      "metadata": {
        "id": "kVJC_OjGmZKj"
      }
    },
    {
      "cell_type": "code",
      "source": [
        "%cd TransNet"
      ],
      "metadata": {
        "id": "YhH0bjammUFx"
      },
      "execution_count": null,
      "outputs": []
    },
    {
      "cell_type": "markdown",
      "source": [
        "# Uncompress the .tar.gz files of the datasets/DPAv4"
      ],
      "metadata": {
        "id": "I5ySuc_AsMUv"
      }
    },
    {
      "cell_type": "code",
      "source": [
        "!tar xvfz datasets/AES_HD/profiling_traces_AES_HD.tar.gz\n",
        "!mv profiling_traces_AES_HD.npy datasets/AES_HD"
      ],
      "metadata": {
        "id": "zqRdH2xIrdjG"
      },
      "execution_count": null,
      "outputs": []
    },
    {
      "cell_type": "code",
      "source": [
        "!tar xvfz datasets/AES_HD/attack_traces_AES_HD.tar.gz\n",
        "!mv attack_traces_AES_HD.npy datasets/AES_HD"
      ],
      "metadata": {
        "id": "NBd9S8J9sAQV"
      },
      "execution_count": null,
      "outputs": []
    },
    {
      "cell_type": "markdown",
      "metadata": {
        "id": "0lTR-UByS-hd"
      },
      "source": [
        "## Set the export variables"
      ]
    },
    {
      "cell_type": "code",
      "metadata": {
        "id": "TRg5D7FGTBAu"
      },
      "source": [
        "# GPU config\n",
        "%env USE_TPU=True\n",
        "\n",
        "# Experiment (data/checkpoint/directory) config\n",
        "%env DATA_PATH=datasets/AES_HD\n",
        "%env DATASET=AES_HD\n",
        "%env CKP_DIR=checkpoints\n",
        "%env WARM_START=False\n",
        "%env RESULT_PATH=results\n",
        "\n",
        "# Optimization config\n",
        "%env LEARNING_RATE=2.5e-4\n",
        "%env CLIP=0.25\n",
        "%env MIN_LR_RATIO=0.004\n",
        "%env WARMUP_STEPS=0\n",
        "\n",
        "# Training config\n",
        "%env TRAIN_BSZ=256\n",
        "%env EVAL_BSZ=16\n",
        "%env TRAIN_STEPS=30000\n",
        "%env ITERATIONS=10000\n",
        "%env SAVE_STEPS=10000\n",
        "\n",
        "# Model config\n",
        "%env N_LAYER=2\n",
        "%env D_MODEL=128\n",
        "%env N_HEAD=2\n",
        "%env D_HEAD=64\n",
        "%env D_INNER=256\n",
        "%env DROPOUT=0.05\n",
        "%env DROPATT=0.05\n",
        "%env CONV_KERNEL_SIZE=11\n",
        "%env POOL_SIZE=2\n",
        "%env CLAMP_LEN=700\n",
        "%env UNTIE_R=True\n",
        "%env SMOOTH_POS_EMB=False\n",
        "%env UNTIE_POS_EMB=True\n",
        "\n",
        "# Parameter initialization\n",
        "%env INIT=normal\n",
        "%env INIT_STD=0.02\n",
        "%env INIT_RANGE=0.1\n",
        "\n",
        "# Evaluation config\n",
        "%env MAX_EVAL_BATCH=100"
      ],
      "execution_count": null,
      "outputs": []
    },
    {
      "cell_type": "markdown",
      "metadata": {
        "id": "4oWQB9r9TDhO"
      },
      "source": [
        "## Train model"
      ]
    },
    {
      "cell_type": "code",
      "metadata": {
        "id": "Jq7454z-TGQ6"
      },
      "source": [
        "!python train_trans.py \\\n",
        "          --use_tpu=${USE_TPU} \\\n",
        "          --data_path=${DATA_PATH} \\\n",
        "          --dataset=${DATASET} \\\n",
        "          --checkpoint_dir=${CKP_DIR}/aes_hd \\\n",
        "          --warm_start=${WARM_START} \\\n",
        "          --result_path=${CKP_DIR}/${RESULT_PATH} \\\n",
        "          --learning_rate=${LEARNING_RATE} \\\n",
        "          --clip=${CLIP} \\\n",
        "          --min_lr_ratio=${MIN_LR_RATIO} \\\n",
        "          --warmup_steps=${WARMUP_STEPS} \\\n",
        "          --train_batch_size=${TRAIN_BSZ} \\\n",
        "          --eval_batch_size=${EVAL_BSZ} \\\n",
        "          --train_steps=${TRAIN_STEPS} \\\n",
        "          --iterations=${ITERATIONS} \\\n",
        "          --save_steps=${SAVE_STEPS} \\\n",
        "          --n_layer=${N_LAYER} \\\n",
        "          --d_model=${D_MODEL} \\\n",
        "          --n_head=${N_HEAD} \\\n",
        "          --d_head=${D_HEAD} \\\n",
        "          --d_inner=${D_INNER} \\\n",
        "          --dropout=${DROPOUT} \\\n",
        "          --dropatt=${DROPATT} \\\n",
        "          --conv_kernel_size=${CONV_KERNEL_SIZE} \\\n",
        "          --pool_size=${POOL_SIZE} \\\n",
        "          --clamp_len=${CLAMP_LEN} \\\n",
        "          --untie_r=${UNTIE_R} \\\n",
        "          --smooth_pos_emb=${SMOOTH_POS_EMB} \\\n",
        "          --untie_pos_emb=${UNTIE_POS_EMB} \\\n",
        "          --init=${INIT} \\\n",
        "          --init_std=${INIT_STD} \\\n",
        "          --init_range=${INIT_RANGE} \\\n",
        "          --max_eval_batch=${MAX_EVAL_BATCH} \\\n",
        "          --do_train=True"
      ],
      "execution_count": null,
      "outputs": []
    },
    {
      "cell_type": "markdown",
      "metadata": {
        "id": "UcTttky8na17"
      },
      "source": [
        "## Test Model"
      ]
    },
    {
      "cell_type": "code",
      "metadata": {
        "id": "O_jfR9Dl_Qsv"
      },
      "source": [
        "!python train_trans.py \\\n",
        "          --use_tpu=${USE_TPU} \\\n",
        "          --data_path=${DATA_PATH} \\\n",
        "          --dataset=${DATASET} \\\n",
        "          --checkpoint_dir=${CKP_DIR}/aes_hd \\\n",
        "          --warm_start=${WARM_START} \\\n",
        "          --result_path=${CKP_DIR}/${RESULT_PATH} \\\n",
        "          --learning_rate=${LEARNING_RATE} \\\n",
        "          --clip=${CLIP} \\\n",
        "          --min_lr_ratio=${MIN_LR_RATIO} \\\n",
        "          --warmup_steps=${WARMUP_STEPS} \\\n",
        "          --train_batch_size=${TRAIN_BSZ} \\\n",
        "          --eval_batch_size=${EVAL_BSZ} \\\n",
        "          --train_steps=${TRAIN_STEPS} \\\n",
        "          --iterations=${ITERATIONS} \\\n",
        "          --save_steps=${SAVE_STEPS} \\\n",
        "          --n_layer=${N_LAYER} \\\n",
        "          --d_model=${D_MODEL} \\\n",
        "          --n_head=${N_HEAD} \\\n",
        "          --d_head=${D_HEAD} \\\n",
        "          --d_inner=${D_INNER} \\\n",
        "          --dropout=${DROPOUT} \\\n",
        "          --dropatt=${DROPATT} \\\n",
        "          --conv_kernel_size=${CONV_KERNEL_SIZE} \\\n",
        "          --pool_size=${POOL_SIZE} \\\n",
        "          --clamp_len=${CLAMP_LEN} \\\n",
        "          --untie_r=${UNTIE_R} \\\n",
        "          --smooth_pos_emb=${SMOOTH_POS_EMB} \\\n",
        "          --untie_pos_emb=${UNTIE_POS_EMB} \\\n",
        "          --init=${INIT} \\\n",
        "          --init_std=${INIT_STD} \\\n",
        "          --init_range=${INIT_RANGE} \\\n",
        "          --max_eval_batch=${MAX_EVAL_BATCH} \\\n",
        "          --do_train=False"
      ],
      "execution_count": null,
      "outputs": []
    },
    {
      "cell_type": "markdown",
      "metadata": {
        "id": "KbNrmWb_nlTu"
      },
      "source": [
        "## Plot Results"
      ]
    },
    {
      "cell_type": "code",
      "metadata": {
        "id": "X-1q1iBenjNT"
      },
      "source": [
        "import numpy as np\n",
        "import matplotlib.pyplot as plt\n",
        "\n",
        "res_file = 'checkpoints/results.txt'\n",
        "nsamples = 10000\n",
        "lines = open(res_file, 'r').readlines()\n",
        "res = np.array([float(e) for e in lines[-1].split()][:nsamples])\n",
        "plt.plot(res)\n",
        "\n",
        "plt.show()"
      ],
      "execution_count": null,
      "outputs": []
    }
  ]
}